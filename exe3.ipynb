{
 "cells": [
  {
   "cell_type": "code",
   "id": "initial_id",
   "metadata": {
    "collapsed": true,
    "ExecuteTime": {
     "end_time": "2025-04-12T16:31:15.729852Z",
     "start_time": "2025-04-12T16:31:15.726956Z"
    }
   },
   "source": [
    "import pandas as pd\n",
    "import numpy as np\n",
    "import matplotlib.pyplot as plt\n",
    "import seaborn as sns\n"
   ],
   "outputs": [],
   "execution_count": 14
  },
  {
   "metadata": {
    "ExecuteTime": {
     "end_time": "2025-04-12T16:56:11.689497Z",
     "start_time": "2025-04-12T16:56:11.661751Z"
    }
   },
   "cell_type": "code",
   "source": [
    "# Load the dataset\n",
    "file_path = \"/Users/vascofelgueiras/Desktop/Universidade/AnaliseDados/Diabetes Missing Data.csv\"\n",
    "df = pd.read_csv(file_path)"
   ],
   "id": "b882b6ec700e2bc3",
   "outputs": [],
   "execution_count": 17
  },
  {
   "metadata": {
    "ExecuteTime": {
     "end_time": "2025-04-12T16:56:13.568348Z",
     "start_time": "2025-04-12T16:56:13.544496Z"
    }
   },
   "cell_type": "code",
   "source": [
    "print(\"Initial Data Overview:\")\n",
    "print(df.info())\n",
    "print(\"\\nSummary Statistics:\")\n",
    "print(df.describe())"
   ],
   "id": "94fbb0f1094031ea",
   "outputs": [
    {
     "name": "stdout",
     "output_type": "stream",
     "text": [
      "Initial Data Overview:\n",
      "<class 'pandas.core.frame.DataFrame'>\n",
      "RangeIndex: 768 entries, 0 to 767\n",
      "Data columns (total 9 columns):\n",
      " #   Column             Non-Null Count  Dtype  \n",
      "---  ------             --------------  -----  \n",
      " 0   Pregnant           768 non-null    int64  \n",
      " 1   Glucose            763 non-null    float64\n",
      " 2   Diastolic_BP       733 non-null    float64\n",
      " 3   Skin_Fold          541 non-null    float64\n",
      " 4   Serum_Insulin      394 non-null    float64\n",
      " 5   BMI                757 non-null    float64\n",
      " 6   Diabetes_Pedigree  768 non-null    float64\n",
      " 7   Age                768 non-null    int64  \n",
      " 8   Class              768 non-null    int64  \n",
      "dtypes: float64(6), int64(3)\n",
      "memory usage: 54.1 KB\n",
      "None\n",
      "\n",
      "Summary Statistics:\n",
      "         Pregnant     Glucose  Diastolic_BP   Skin_Fold  Serum_Insulin  \\\n",
      "count  768.000000  763.000000    733.000000  541.000000     394.000000   \n",
      "mean     3.845052  121.686763     72.405184   29.153420     155.548223   \n",
      "std      3.369578   30.535641     12.382158   10.476982     118.775855   \n",
      "min      0.000000   44.000000     24.000000    7.000000      14.000000   \n",
      "25%      1.000000   99.000000     64.000000   22.000000      76.250000   \n",
      "50%      3.000000  117.000000     72.000000   29.000000     125.000000   \n",
      "75%      6.000000  141.000000     80.000000   36.000000     190.000000   \n",
      "max     17.000000  199.000000    122.000000   99.000000     846.000000   \n",
      "\n",
      "              BMI  Diabetes_Pedigree         Age       Class  \n",
      "count  757.000000         768.000000  768.000000  768.000000  \n",
      "mean    32.457464           0.471876   33.240885    0.348958  \n",
      "std      6.924988           0.331329   11.760232    0.476951  \n",
      "min     18.200000           0.078000   21.000000    0.000000  \n",
      "25%     27.500000           0.243750   24.000000    0.000000  \n",
      "50%     32.300000           0.372500   29.000000    0.000000  \n",
      "75%     36.600000           0.626250   41.000000    1.000000  \n",
      "max     67.100000           2.420000   81.000000    1.000000  \n"
     ]
    }
   ],
   "execution_count": 18
  },
  {
   "metadata": {
    "ExecuteTime": {
     "end_time": "2025-04-12T16:56:16.267330Z",
     "start_time": "2025-04-12T16:56:16.262278Z"
    }
   },
   "cell_type": "code",
   "source": [
    "print(df.columns)\n",
    "print(\"\\nMissing Values per Column:\")\n",
    "print(df.isnull().sum())"
   ],
   "id": "ce71082c2bfc2168",
   "outputs": [
    {
     "name": "stdout",
     "output_type": "stream",
     "text": [
      "Index(['Pregnant', 'Glucose', 'Diastolic_BP', 'Skin_Fold', 'Serum_Insulin',\n",
      "       'BMI', 'Diabetes_Pedigree', 'Age', 'Class'],\n",
      "      dtype='object')\n",
      "\n",
      "Missing Values per Column:\n",
      "Pregnant               0\n",
      "Glucose                5\n",
      "Diastolic_BP          35\n",
      "Skin_Fold            227\n",
      "Serum_Insulin        374\n",
      "BMI                   11\n",
      "Diabetes_Pedigree      0\n",
      "Age                    0\n",
      "Class                  0\n",
      "dtype: int64\n"
     ]
    }
   ],
   "execution_count": 19
  },
  {
   "metadata": {
    "ExecuteTime": {
     "end_time": "2025-04-12T16:56:18.928411Z",
     "start_time": "2025-04-12T16:56:18.922881Z"
    }
   },
   "cell_type": "code",
   "source": [
    "missing_percentage = (df.isnull().sum() / len(df)) * 100\n",
    "print(missing_percentage)"
   ],
   "id": "68ea6545fe4e643b",
   "outputs": [
    {
     "name": "stdout",
     "output_type": "stream",
     "text": [
      "Pregnant              0.000000\n",
      "Glucose               0.651042\n",
      "Diastolic_BP          4.557292\n",
      "Skin_Fold            29.557292\n",
      "Serum_Insulin        48.697917\n",
      "BMI                   1.432292\n",
      "Diabetes_Pedigree     0.000000\n",
      "Age                   0.000000\n",
      "Class                 0.000000\n",
      "dtype: float64\n"
     ]
    }
   ],
   "execution_count": 20
  },
  {
   "metadata": {
    "ExecuteTime": {
     "end_time": "2025-04-12T17:00:21.890681Z",
     "start_time": "2025-04-12T17:00:21.886268Z"
    }
   },
   "cell_type": "code",
   "source": "for col in [\"Glucose\", \"Diastolic_BP\", \"Skin_Fold\", \"Serum_Insulin\", \"BMI\"]: df[col].fillna(df[col].mean(), inplace=True)",
   "id": "41e270e63b5ed542",
   "outputs": [
    {
     "name": "stderr",
     "output_type": "stream",
     "text": [
      "/var/folders/m3/fdbmmnwj3b5f1d5f3y11kmmr0000gn/T/ipykernel_28921/2536524421.py:1: FutureWarning: A value is trying to be set on a copy of a DataFrame or Series through chained assignment using an inplace method.\n",
      "The behavior will change in pandas 3.0. This inplace method will never work because the intermediate object on which we are setting values always behaves as a copy.\n",
      "\n",
      "For example, when doing 'df[col].method(value, inplace=True)', try using 'df.method({col: value}, inplace=True)' or df[col] = df[col].method(value) instead, to perform the operation inplace on the original object.\n",
      "\n",
      "\n",
      "  for col in [\"Glucose\", \"Diastolic_BP\", \"Skin_Fold\", \"Serum_Insulin\", \"BMI\"]: df[col].fillna(df[col].mean(), inplace=True)\n"
     ]
    }
   ],
   "execution_count": 22
  },
  {
   "metadata": {
    "ExecuteTime": {
     "end_time": "2025-04-12T17:00:37.611196Z",
     "start_time": "2025-04-12T17:00:37.606173Z"
    }
   },
   "cell_type": "code",
   "source": [
    "print(\"\\nMissing Values After Handling:\")\n",
    "print(df.isnull().sum())"
   ],
   "id": "7739333af1a28b98",
   "outputs": [
    {
     "name": "stdout",
     "output_type": "stream",
     "text": [
      "\n",
      "Missing Values After Handling:\n",
      "Pregnant             0\n",
      "Glucose              0\n",
      "Diastolic_BP         0\n",
      "Skin_Fold            0\n",
      "Serum_Insulin        0\n",
      "BMI                  0\n",
      "Diabetes_Pedigree    0\n",
      "Age                  0\n",
      "Class                0\n",
      "dtype: int64\n"
     ]
    }
   ],
   "execution_count": 23
  },
  {
   "metadata": {
    "ExecuteTime": {
     "end_time": "2025-04-12T17:03:16.004503Z",
     "start_time": "2025-04-12T17:03:15.863772Z"
    }
   },
   "cell_type": "code",
   "source": [
    "#Boxplot Before Handling Outliers\n",
    "plt.figure(figsize=(12, 6))\n",
    "sns.boxplot(data=df[[\"Glucose\", \"Diastolic_BP\", \"Skin_Fold\", \"Serum_Insulin\", \"BMI\"]])\n",
    "plt.title(\"Boxplot Before Outlier Handling\")\n",
    "plt.show()"
   ],
   "id": "1335373a5449a59e",
   "outputs": [
    {
     "data": {
      "text/plain": [
       "<Figure size 1200x600 with 1 Axes>"
      ],
      "image/png": "[encoded data removed]"
     },
     "metadata": {},
     "output_type": "display_data"
    }
   ],
   "execution_count": 24
  },
  {
   "metadata": {
    "ExecuteTime": {
     "end_time": "2025-04-12T17:07:09.689751Z",
     "start_time": "2025-04-12T17:07:09.676718Z"
    }
   },
   "cell_type": "code",
   "source": [
    "#Outliers specifically\n",
    "Q1 = df[\"BMI\"].quantile(0.25)\n",
    "Q3 = df[\"BMI\"].quantile(0.75)\n",
    "IQR = Q3 - Q1\n",
    "lower_bound = Q1 - 1.5 * IQR\n",
    "upper_bound = Q3 + 1.5 * IQR\n",
    "outliers = df[(df[\"BMI\"] < lower_bound) | (df[\"BMI\"] > upper_bound)]\n",
    "print(outliers)"
   ],
   "id": "3e91e3d99b5072dc",
   "outputs": [
    {
     "name": "stdout",
     "output_type": "stream",
     "text": [
      "     Pregnant  Glucose  Diastolic_BP  Skin_Fold  Serum_Insulin   BMI  \\\n",
      "120         0    162.0     76.000000   56.00000     100.000000  53.2   \n",
      "125         1     88.0     30.000000   42.00000      99.000000  55.0   \n",
      "177         0    129.0    110.000000   46.00000     130.000000  67.1   \n",
      "193        11    135.0     72.405184   29.15342     155.548223  52.3   \n",
      "247         0    165.0     90.000000   33.00000     680.000000  52.3   \n",
      "303         5    115.0     98.000000   29.15342     155.548223  52.9   \n",
      "445         0    180.0     78.000000   63.00000      14.000000  59.4   \n",
      "673         3    123.0    100.000000   35.00000     240.000000  57.3   \n",
      "\n",
      "     Diabetes_Pedigree  Age  Class  \n",
      "120              0.759   25      1  \n",
      "125              0.496   26      1  \n",
      "177              0.319   26      1  \n",
      "193              0.578   40      1  \n",
      "247              0.427   23      0  \n",
      "303              0.209   28      1  \n",
      "445              2.420   25      1  \n",
      "673              0.880   22      0  \n"
     ]
    }
   ],
   "execution_count": 27
  },
  {
   "metadata": {
    "ExecuteTime": {
     "end_time": "2025-04-12T17:10:49.071815Z",
     "start_time": "2025-04-12T17:10:49.031228Z"
    }
   },
   "cell_type": "code",
   "source": [
    "#Boxplot Before Handling Outliers BMI\n",
    "plt.figure(figsize=(8, 5))\n",
    "sns.boxplot(x=df[\"BMI\"])\n",
    "plt.title(\"Box Plot for Outlier Detection\")\n",
    "plt.show()"
   ],
   "id": "2f1964a5b538132",
   "outputs": [
    {
     "data": {
      "text/plain": [
       "<Figure size 800x500 with 1 Axes>"
      ],
      "image/png": "[encoded data removed]"
     },
     "metadata": {},
     "output_type": "display_data"
    }
   ],
   "execution_count": 31
  },
  {
   "metadata": {
    "ExecuteTime": {
     "end_time": "2025-04-12T17:12:53.326306Z",
     "start_time": "2025-04-12T17:12:53.303278Z"
    }
   },
   "cell_type": "code",
   "source": [
    "#Handling Outliers\n",
    "#Outliers to low or upper bound\n",
    "for col in [\"Glucose\", \"Diastolic_BP\", \"Skin_Fold\", \"Serum_Insulin\", \"BMI\"]:\n",
    "    Q1 = df[col].quantile(0.25)\n",
    "    Q3 = df[col].quantile(0.75)\n",
    "    IQR = Q3 - Q1\n",
    "    lower_bound = Q1 - 1.5 * IQR\n",
    "    upper_bound = Q3 + 1.5 * IQR\n",
    "    df[col] = df[col].clip(lower=lower_bound, upper=upper_bound)\n",
    "\n",
    "print(\"\\nDataset After Handling Outliers:\")\n",
    "print(df.describe())"
   ],
   "id": "ce9362cded5cc1d3",
   "outputs": [
    {
     "name": "stdout",
     "output_type": "stream",
     "text": [
      "\n",
      "Dataset After Handling Outliers:\n",
      "         Pregnant     Glucose  Diastolic_BP   Skin_Fold  Serum_Insulin  \\\n",
      "count  768.000000  768.000000    768.000000  768.000000     768.000000   \n",
      "mean     3.845052  121.686763     72.376538   28.911883     143.937487   \n",
      "std      3.369578   30.435949     11.696836    7.443497      39.496793   \n",
      "min      0.000000   44.000000     40.000000   14.500000      70.427665   \n",
      "25%      1.000000   99.750000     64.000000   25.000000     121.500000   \n",
      "50%      3.000000  117.000000     72.202592   29.153420     155.548223   \n",
      "75%      6.000000  140.250000     80.000000   32.000000     155.548223   \n",
      "max     17.000000  199.000000    104.000000   42.500000     206.620558   \n",
      "\n",
      "              BMI  Diabetes_Pedigree         Age       Class  \n",
      "count  768.000000         768.000000  768.000000  768.000000  \n",
      "mean    32.395615           0.471876   33.240885    0.348958  \n",
      "std      6.667466           0.331329   11.760232    0.476951  \n",
      "min     18.200000           0.078000   21.000000    0.000000  \n",
      "25%     27.500000           0.243750   24.000000    0.000000  \n",
      "50%     32.400000           0.372500   29.000000    0.000000  \n",
      "75%     36.600000           0.626250   41.000000    1.000000  \n",
      "max     50.250000           2.420000   81.000000    1.000000  \n"
     ]
    }
   ],
   "execution_count": 32
  },
  {
   "metadata": {
    "ExecuteTime": {
     "end_time": "2025-04-12T17:17:46.918104Z",
     "start_time": "2025-04-12T17:17:46.858036Z"
    }
   },
   "cell_type": "code",
   "source": [
    "#Boxplot After Handling Outliers BMI\n",
    "plt.figure(figsize=(8, 5))\n",
    "sns.boxplot(x=df[\"BMI\"])\n",
    "plt.title(\"Box Plot for Outlier Detection\")\n",
    "plt.show()"
   ],
   "id": "7f4604cb241eea02",
   "outputs": [
    {
     "data": {
      "text/plain": [
       "<Figure size 800x500 with 1 Axes>"
      ],
      "image/png": "[encoded data removed]"
     },
     "metadata": {},
     "output_type": "display_data"
    }
   ],
   "execution_count": 34
  },
  {
   "metadata": {},
   "cell_type": "code",
   "outputs": [],
   "execution_count": null,
   "source": [
    "df.to_csv(\"/Users/vascofelgueiras/Desktop/Universidade/AnaliseDados/Diabetes Missing Data.csv\", index=False)\n",
    "print(\"Cleaned dataset saved as 'Diabetes Missing Data.csv'\")"
   ],
   "id": "590bfcfce5c26847"
  }
 ],
 "metadata": {
  "kernelspec": {
   "display_name": "Python 3",
   "language": "python",
   "name": "python3"
  },
  "language_info": {
   "codemirror_mode": {
    "name": "ipython",
    "version": 2
   },
   "file_extension": ".py",
   "mimetype": "text/x-python",
   "name": "python",
   "nbconvert_exporter": "python",
   "pygments_lexer": "ipython2",
   "version": "2.7.6"
  }
 },
 "nbformat": 4,
 "nbformat_minor": 5
}
